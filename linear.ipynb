{
 "cells": [
  {
   "cell_type": "code",
   "execution_count": 5,
   "id": "74aa4f13-98ec-4a07-97dd-4082fb316290",
   "metadata": {},
   "outputs": [
    {
     "name": "stdout",
     "output_type": "stream",
     "text": [
      "Slope (alpha): 2.229107618630695\n",
      "Intercept (beta): 5.947925364177834\n",
      "R-squared: 0.9564842671654181\n",
      "P-value: 1.0586925829579293e-13\n",
      "Standard Error: 0.1120673284694217\n"
     ]
    },
    {
     "data": {
      "text/html": [
       "<div>\n",
       "<style scoped>\n",
       "    .dataframe tbody tr th:only-of-type {\n",
       "        vertical-align: middle;\n",
       "    }\n",
       "\n",
       "    .dataframe tbody tr th {\n",
       "        vertical-align: top;\n",
       "    }\n",
       "\n",
       "    .dataframe thead th {\n",
       "        text-align: right;\n",
       "    }\n",
       "</style>\n",
       "<table border=\"1\" class=\"dataframe\">\n",
       "  <thead>\n",
       "    <tr style=\"text-align: right;\">\n",
       "      <th></th>\n",
       "      <th>Height (inches)</th>\n",
       "      <th>Weight (pounds)</th>\n",
       "      <th>Predicted Weight</th>\n",
       "    </tr>\n",
       "  </thead>\n",
       "  <tbody>\n",
       "    <tr>\n",
       "      <th>0</th>\n",
       "      <td>36.000000</td>\n",
       "      <td>84.588937</td>\n",
       "      <td>86.195800</td>\n",
       "    </tr>\n",
       "    <tr>\n",
       "      <th>1</th>\n",
       "      <td>37.894737</td>\n",
       "      <td>89.961817</td>\n",
       "      <td>90.419372</td>\n",
       "    </tr>\n",
       "    <tr>\n",
       "      <th>2</th>\n",
       "      <td>39.789474</td>\n",
       "      <td>96.931046</td>\n",
       "      <td>94.642944</td>\n",
       "    </tr>\n",
       "    <tr>\n",
       "      <th>3</th>\n",
       "      <td>41.684211</td>\n",
       "      <td>101.142694</td>\n",
       "      <td>98.866517</td>\n",
       "    </tr>\n",
       "    <tr>\n",
       "      <th>4</th>\n",
       "      <td>43.578947</td>\n",
       "      <td>93.343232</td>\n",
       "      <td>103.090089</td>\n",
       "    </tr>\n",
       "  </tbody>\n",
       "</table>\n",
       "</div>"
      ],
      "text/plain": [
       "   Height (inches)  Weight (pounds)  Predicted Weight\n",
       "0        36.000000        84.588937         86.195800\n",
       "1        37.894737        89.961817         90.419372\n",
       "2        39.789474        96.931046         94.642944\n",
       "3        41.684211       101.142694         98.866517\n",
       "4        43.578947        93.343232        103.090089"
      ]
     },
     "execution_count": 5,
     "metadata": {},
     "output_type": "execute_result"
    }
   ],
   "source": [
    "# Import necessary libraries\n",
    "import pandas as pd\n",
    "import numpy as np\n",
    "from scipy import stats\n",
    "\n",
    "# Load the data from the CSV file\n",
    "data = pd.read_csv('height_weight_data.csv')\n",
    "\n",
    "# Display the first few rows to ensure it's loaded correctly\n",
    "data.head()\n",
    "\n",
    "# Calculate the slope (alpha) and intercept (beta) using linear regression\n",
    "slope, intercept, r_value, p_value, std_err = stats.linregress(data['Height (inches)'], data['Weight (pounds)'])\n",
    "\n",
    "# Print the results\n",
    "print(f\"Slope (alpha): {slope}\")\n",
    "print(f\"Intercept (beta): {intercept}\")\n",
    "print(f\"R-squared: {r_value**2}\")\n",
    "print(f\"P-value: {p_value}\")\n",
    "print(f\"Standard Error: {std_err}\")\n",
    "\n",
    "# Optionally, you can add the predicted weights to the DataFrame\n",
    "data['Predicted Weight'] = intercept + slope * data['Height (inches)']\n",
    "\n",
    "# Display the updated DataFrame with the predicted weights\n",
    "data.head()\n",
    "\n"
   ]
  },
  {
   "cell_type": "code",
   "execution_count": 6,
   "id": "8be6fa8c-b91e-477c-aa09-86fa7a2351f2",
   "metadata": {},
   "outputs": [
    {
     "name": "stdout",
     "output_type": "stream",
     "text": [
      "Slope (alpha): 2.2291076186306795\n",
      "Intercept (beta): 5.947925364178696\n",
      "R-squared: 0.9564842671654183\n"
     ]
    }
   ],
   "source": [
    "import csv\n",
    "\n",
    "# Initialize sums\n",
    "sum_x = 0\n",
    "sum_y = 0\n",
    "sum_xy = 0\n",
    "sum_x2 = 0\n",
    "n = 0\n",
    "\n",
    "# Read the CSV file\n",
    "with open('height_weight_data.csv', 'r') as file:\n",
    "    reader = csv.DictReader(file)\n",
    "    \n",
    "    # Iterate over the rows\n",
    "    for row in reader:\n",
    "        x = float(row['Height (inches)'])\n",
    "        y = float(row['Weight (pounds)'])\n",
    "        sum_x += x\n",
    "        sum_y += y\n",
    "        sum_xy += x * y\n",
    "        sum_x2 += x * x\n",
    "        n += 1\n",
    "\n",
    "# Calculate slope (alpha) and intercept (beta)\n",
    "slope = (n * sum_xy - sum_x * sum_y) / (n * sum_x2 - sum_x ** 2)\n",
    "intercept = (sum_y - slope * sum_x) / n\n",
    "\n",
    "# Calculate R-squared\n",
    "sum_y2 = 0\n",
    "sum_residuals2 = 0\n",
    "with open('height_weight_data.csv', 'r') as file:\n",
    "    reader = csv.DictReader(file)\n",
    "    for row in reader:\n",
    "        x = float(row['Height (inches)'])\n",
    "        y = float(row['Weight (pounds)'])\n",
    "        y_predicted = intercept + slope * x\n",
    "        sum_y2 += (y - sum_y / n) ** 2\n",
    "        sum_residuals2 += (y - y_predicted) ** 2\n",
    "\n",
    "r_squared = 1 - (sum_residuals2 / sum_y2)\n",
    "\n",
    "# Output the results\n",
    "print(f\"Slope (alpha): {slope}\")\n",
    "print(f\"Intercept (beta): {intercept}\")\n",
    "print(f\"R-squared: {r_squared}\")\n"
   ]
  },
  {
   "cell_type": "code",
   "execution_count": null,
   "id": "41aa0e7b-a67e-4716-aa4a-548c31cf40f5",
   "metadata": {},
   "outputs": [],
   "source": []
  }
 ],
 "metadata": {
  "kernelspec": {
   "display_name": "Python 3 (ipykernel)",
   "language": "python",
   "name": "python3"
  },
  "language_info": {
   "codemirror_mode": {
    "name": "ipython",
    "version": 3
   },
   "file_extension": ".py",
   "mimetype": "text/x-python",
   "name": "python",
   "nbconvert_exporter": "python",
   "pygments_lexer": "ipython3",
   "version": "3.9.2"
  }
 },
 "nbformat": 4,
 "nbformat_minor": 5
}
